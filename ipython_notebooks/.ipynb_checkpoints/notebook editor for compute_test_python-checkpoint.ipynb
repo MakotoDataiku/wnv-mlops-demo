{
  "nbformat": 4,
  "nbformat_minor": 0,
  "metadata": {
    "kernelspec": {
      "display_name": "Python 2",
      "language": "python",
      "name": "python2"
    },
    "associatedRecipe": "compute_test_python",
    "creator": "admin",
    "createdOn": 1629884567316,
    "tags": [
      "recipe-editor"
    ],
    "customFields": {}
  },
  "cells": [
    {
      "cell_type": "code",
      "metadata": {},
      "outputs": [],
      "execution_count": 0,
      "source": [
        "# -*- coding: utf-8 -*-\n",
        "import dataiku\n",
        "import pandas as pd, numpy as np\n",
        "from dataiku import pandasutils as pdu\n",
        "\n",
        "# Read recipe inputs\n",
        "weather \u003d dataiku.Dataset(\"weather\")\n",
        "weather_df \u003d weather.get_dataframe()\n",
        "\n",
        "\n",
        "# Compute recipe outputs from inputs\n",
        "# TODO: Replace this part by your actual code that computes the output, as a Pandas dataframe\n",
        "# NB: DSS also supports other kinds of APIs for reading and writing data. Please see doc.\n",
        "\n",
        "test_python_df \u003d weather_df # For this sample code, simply copy input to output\n",
        "\n",
        "\n",
        "# Write recipe outputs\n",
        "test_python \u003d dataiku.Dataset(\"test_python\")\n",
        "test_python.write_with_schema(test_python_df)"
      ]
    }
  ]
}