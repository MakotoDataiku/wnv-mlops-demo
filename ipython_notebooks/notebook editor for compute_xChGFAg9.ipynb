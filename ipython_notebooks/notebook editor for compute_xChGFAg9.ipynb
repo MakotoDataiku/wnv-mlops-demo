{
  "nbformat": 4,
  "nbformat_minor": 0,
  "metadata": {
    "kernelspec": {
      "display_name": "Python 2",
      "language": "python",
      "name": "python2"
    },
    "associatedRecipe": "compute_xChGFAg9",
    "creator": "admin",
    "createdOn": 1620293867531,
    "tags": [
      "recipe-editor"
    ],
    "customFields": {}
  },
  "cells": [
    {
      "cell_type": "code",
      "metadata": {},
      "outputs": [],
      "execution_count": 0,
      "source": [
        "# -*- coding: utf-8 -*-\n",
        "import dataiku\n",
        "import pandas as pd, numpy as np\n",
        "from dataiku import pandasutils as pdu\n",
        "\n",
        "# Read recipe inputs\n",
        "test \u003d dataiku.Dataset(\"test\")\n",
        "test_df \u003d test.get_dataframe()\n",
        "\n",
        "\n",
        "\n",
        "\n",
        "# Write recipe outputs\n",
        "heatmap \u003d dataiku.Folder(\"xChGFAg9\")\n",
        "heatmap_info \u003d heatmap.get_info()"
      ]
    }
  ]
}