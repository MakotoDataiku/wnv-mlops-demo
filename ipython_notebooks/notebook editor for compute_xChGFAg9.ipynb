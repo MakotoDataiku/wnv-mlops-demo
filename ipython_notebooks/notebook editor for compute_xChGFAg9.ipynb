{
  "metadata": {
    "kernelspec": {
      "display_name": "Python 2",
      "language": "python",
      "name": "python2"
    },
    "creator": "admin",
    "createdOn": 1620293867531,
    "tags": [
      "deleted-recipe-editor"
    ],
    "customFields": {}
  },
  "nbformat": 4,
  "nbformat_minor": 0,
  "cells": [
    {
      "execution_count": 0,
      "cell_type": "code",
      "metadata": {},
      "source": [
        "# -*- coding: utf-8 -*-\n",
        "import dataiku\n",
        "import pandas as pd, numpy as np\n",
        "from dataiku import pandasutils as pdu\n",
        "\n",
        "# Read recipe inputs\n",
        "test \u003d dataiku.Dataset(\"test\")\n",
        "test_df \u003d test.get_dataframe()\n",
        "\n",
        "\n",
        "\n",
        "\n",
        "# Write recipe outputs\n",
        "heatmap \u003d dataiku.Folder(\"xChGFAg9\")\n",
        "heatmap_info \u003d heatmap.get_info()"
      ],
      "outputs": []
    }
  ]
}